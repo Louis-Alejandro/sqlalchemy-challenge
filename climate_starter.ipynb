{
 "cells": [
  {
   "cell_type": "code",
   "execution_count": 13,
   "metadata": {},
   "outputs": [],
   "source": [
    "%matplotlib inline\n",
    "from matplotlib import style\n",
    "style.use('fivethirtyeight')\n",
    "import matplotlib.pyplot as plt\n"
   ]
  },
  {
   "cell_type": "code",
   "execution_count": 24,
   "metadata": {},
   "outputs": [],
   "source": [
    "import numpy as np\n",
    "import pandas as pd\n",
    "from datetime import datetime, timedelta\n",
    "from flask import Flask\n"
   ]
  },
  {
   "cell_type": "markdown",
   "metadata": {},
   "source": [
    "# Reflect Tables into SQLAlchemy ORM"
   ]
  },
  {
   "cell_type": "code",
   "execution_count": 15,
   "metadata": {},
   "outputs": [],
   "source": [
    "# Python SQL toolkit and Object Relational Mapper\n",
    "import sqlalchemy\n",
    "from sqlalchemy.ext.automap import automap_base\n",
    "from sqlalchemy.orm import Session\n",
    "from sqlalchemy import create_engine, func\n"
   ]
  },
  {
   "cell_type": "code",
   "execution_count": 16,
   "metadata": {},
   "outputs": [],
   "source": [
    "# create engine to hawaii.sqlite\n",
    "engine = create_engine(\"sqlite:///Resources/hawaii.sqlite\")\n",
    "conn = engine.connect()\n",
    "session = Session(bind=engine)\n"
   ]
  },
  {
   "cell_type": "code",
   "execution_count": 17,
   "metadata": {},
   "outputs": [],
   "source": [
    "# reflect an existing database into a new model\n",
    "Base = automap_base()\n",
    "Base.prepare(engine, reflect = True)\n",
    "# reflect the tables\n",
    "Measurement = Base.classes.measurement\n",
    "Station = Base.classes.station\n"
   ]
  },
  {
   "cell_type": "code",
   "execution_count": 18,
   "metadata": {},
   "outputs": [
    {
     "name": "stdout",
     "output_type": "stream",
     "text": [
      "measurement\n",
      "station\n"
     ]
    }
   ],
   "source": [
    "# View all of the classes that automap found\n",
    "for class_name in Base.classes.keys():\n",
    "    print(class_name)\n",
    "    "
   ]
  },
  {
   "cell_type": "code",
   "execution_count": 19,
   "metadata": {},
   "outputs": [],
   "source": [
    "# Save references to each table\n",
    "reflected_tables = {\n",
    "    \"measurement\": 'Measurement',\n",
    "    'station':'Station'\n",
    "}\n"
   ]
  },
  {
   "cell_type": "code",
   "execution_count": 20,
   "metadata": {},
   "outputs": [],
   "source": [
    "# Create our session (link) from Python to the DB\n",
    "new_session = Session(bind=engine)"
   ]
  },
  {
   "cell_type": "markdown",
   "metadata": {},
   "source": [
    "# Exploratory Precipitation Analysis"
   ]
  },
  {
   "cell_type": "code",
   "execution_count": 21,
   "metadata": {},
   "outputs": [
    {
     "name": "stdout",
     "output_type": "stream",
     "text": [
      "2017-08-23\n"
     ]
    }
   ],
   "source": [
    "# Find the most recent date in the data set.\n",
    "most_recent_date = session.query(func.max(Measurement.date)).scalar()\n",
    "print(most_recent_date)"
   ]
  },
  {
   "cell_type": "code",
   "execution_count": 55,
   "metadata": {},
   "outputs": [
    {
     "data": {
      "image/png": "[encoded data removed]",
      "text/plain": [
       "<Figure size 800x600 with 1 Axes>"
      ]
     },
     "metadata": {},
     "output_type": "display_data"
    }
   ],
   "source": [
    "# Design a query to retrieve the last 12 months of precipitation data and plot the results. \n",
    "# Starting from the most recent data point in the database. \n",
    "most_recent_date = session.query(func.max(Measurement.date)).scalar()\n",
    "most_recent_date = datetime.strptime(most_recent_date, '%Y-%m-%d')\n",
    "\n",
    "# Calculate the date one year from the last date in data set.\n",
    "one_year_ago = most_recent_date - timedelta(days=365)\n",
    "\n",
    "# Perform a query to retrieve the data and precipitation scores\n",
    "results = session.query(Measurement.date, Measurement.prcp)\\\n",
    "    .filter(Measurement.date >= one_year_ago).all()\n",
    "\n",
    "# Save the query results as a Pandas DataFrame. Explicitly set the column names\n",
    "df = pd.DataFrame(results, columns=['Date', 'Precipitation'])\n",
    "\n",
    "# Sort the dataframe by date\n",
    "df = df.sort_values('Date')\n",
    "\n",
    "# Use Pandas Plotting with Matplotlib to plot the data\n",
    "one_year_ago = most_recent_date - timedelta(days=365)\n",
    "\n",
    "# Perform a query to retrieve the data and precipitation scores\n",
    "results = session.query(Measurement.date, Measurement.prcp)\\\n",
    "                 .filter(Measurement.date >= one_year_ago).all()\n",
    "\n",
    "# Save the query results as a Pandas DataFrame\n",
    "df = pd.DataFrame(results, columns=['Date', 'Precipitation'])\n",
    "\n",
    "# Sort the DataFrame by date\n",
    "df = df.sort_values('Date')\n",
    "\n",
    "# Use Pandas Plotting with Matplotlib to plot the data\n",
    "plt.figure(figsize=(8, 6))\n",
    "plt.bar(df['Date'], df['Precipitation'], width=3, label='Precipitation')\n",
    "\n",
    "# Customize x-ticks\n",
    "x_ticks = ['2016-08-23', '2016-11-09', '2017-01-28', '2017-04-18', '2017-07-10']\n",
    "plt.xticks(x_ticks, rotation=90)\n",
    "plt.xlabel('Date')\n",
    "\n",
    "plt.ylabel('Inches')\n",
    "plt.legend()\n",
    "\n",
    "# Show the plot without a title\n",
    "plt.tight_layout()\n",
    "plt.show()"
   ]
  },
  {
   "cell_type": "code",
   "execution_count": 61,
   "metadata": {},
   "outputs": [
    {
     "data": {
      "text/plain": [
       "count    2015.000000\n",
       "mean        0.176462\n",
       "std         0.460288\n",
       "min         0.000000\n",
       "25%         0.000000\n",
       "50%         0.020000\n",
       "75%         0.130000\n",
       "max         6.700000\n",
       "Name: Precipitation, dtype: float64"
      ]
     },
     "execution_count": 61,
     "metadata": {},
     "output_type": "execute_result"
    }
   ],
   "source": [
    "# Use Pandas to calculate the summary statistics for the precipitation data\n",
    "summary_stats = df['Precipitation'].describe()\n",
    "summary_stats"
   ]
  },
  {
   "cell_type": "markdown",
   "metadata": {},
   "source": [
    "# Exploratory Station Analysis"
   ]
  },
  {
   "cell_type": "code",
   "execution_count": 63,
   "metadata": {},
   "outputs": [
    {
     "name": "stdout",
     "output_type": "stream",
     "text": [
      "Total number of stations: 9\n"
     ]
    }
   ],
   "source": [
    "# Design a query to calculate the total number of stations in the dataset\n",
    "total_stations = session.query(func.count(Station.station)).scalar()\n",
    "print(\"Total number of stations:\", total_stations)\n"
   ]
  },
  {
   "cell_type": "code",
   "execution_count": 65,
   "metadata": {},
   "outputs": [
    {
     "name": "stdout",
     "output_type": "stream",
     "text": [
      "Most active stations:\n",
      "Station: USC00519281, Count: 2772\n",
      "Station: USC00519397, Count: 2724\n",
      "Station: USC00513117, Count: 2709\n",
      "Station: USC00519523, Count: 2669\n",
      "Station: USC00516128, Count: 2612\n",
      "Station: USC00514830, Count: 2202\n",
      "Station: USC00511918, Count: 1979\n",
      "Station: USC00517948, Count: 1372\n",
      "Station: USC00518838, Count: 511\n"
     ]
    }
   ],
   "source": [
    "# Design a query to find the most active stations (i.e. which stations have the most rows?)\n",
    "# List the stations and their counts in descending order.\n",
    "active_stations = session.query(Measurement.station, func.count(Measurement.station))\\\n",
    "                         .group_by(Measurement.station)\\\n",
    "                         .order_by(func.count(Measurement.station).desc())\\\n",
    "                         .all()\n",
    "\n",
    "print(\"Most active stations:\")\n",
    "for station, count in active_stations:\n",
    "    print(f\"Station: {station}, Count: {count}\")"
   ]
  },
  {
   "cell_type": "code",
   "execution_count": 66,
   "metadata": {},
   "outputs": [
    {
     "name": "stdout",
     "output_type": "stream",
     "text": [
      "Most Active Station: USC00519281\n",
      "Lowest Temperature: 54.0°F\n",
      "Highest Temperature: 85.0°F\n",
      "Average Temperature: 71.66°F\n"
     ]
    }
   ],
   "source": [
    "\n",
    "most_active_station = session.query(Measurement.station, func.count(Measurement.station))\\\n",
    "                             .group_by(Measurement.station)\\\n",
    "                             .order_by(func.count(Measurement.station).desc())\\\n",
    "                             .first()[0]\n",
    "\n",
    "# Query to calculate lowest, highest, and average temperature for the most active station\n",
    "temperature_stats = session.query(func.min(Measurement.tobs), func.max(Measurement.tobs), func.avg(Measurement.tobs))\\\n",
    "                           .filter(Measurement.station == most_active_station)\\\n",
    "                           .first()\n",
    "\n",
    "# Extract the results\n",
    "lowest_temp, highest_temp, avg_temp = temperature_stats\n",
    "\n",
    "# Print the results\n",
    "print(f\"Most Active Station: {most_active_station}\")\n",
    "print(f\"Lowest Temperature: {lowest_temp}°F\")\n",
    "print(f\"Highest Temperature: {highest_temp}°F\")\n",
    "print(f\"Average Temperature: {avg_temp:.2f}°F\")\n"
   ]
  },
  {
   "cell_type": "code",
   "execution_count": 67,
   "metadata": {},
   "outputs": [
    {
     "name": "stdout",
     "output_type": "stream",
     "text": [
      "Most Active Station: USC00519281\n",
      "Lowest Temperature: 54.0°F\n",
      "Highest Temperature: 85.0°F\n",
      "Average Temperature: 71.66°F\n"
     ]
    }
   ],
   "source": [
    "# Using the most active station id from the previous query, calculate the lowest, highest, and average temperature.\n",
    "most_active_station = session.query(Measurement.station, func.count(Measurement.station))\\\n",
    "                             .group_by(Measurement.station)\\\n",
    "                             .order_by(func.count(Measurement.station).desc())\\\n",
    "                             .first()[0]\n",
    "temperature_stats = session.query(func.min(Measurement.tobs), func.max(Measurement.tobs), func.avg(Measurement.tobs))\\\n",
    "                           .filter(Measurement.station == most_active_station)\\\n",
    "                           .first()\n",
    "lowest_temp, highest_temp, avg_temp = temperature_stats\n",
    "\n",
    "print(f\"Most Active Station: {most_active_station}\")\n",
    "print(f\"Lowest Temperature: {lowest_temp}°F\")\n",
    "print(f\"Highest Temperature: {highest_temp}°F\")\n",
    "print(f\"Average Temperature: {avg_temp:.2f}°F\")"
   ]
  },
  {
   "cell_type": "code",
   "execution_count": 70,
   "metadata": {},
   "outputs": [
    {
     "data": {
      "image/png": "[encoded data removed]",
      "text/plain": [
       "<Figure size 800x600 with 1 Axes>"
      ]
     },
     "metadata": {},
     "output_type": "display_data"
    }
   ],
   "source": [
    "# Using the most active station id\n",
    "# Query the last 12 months of temperature observation data for this station and plot the results as a histogram\n",
    "most_active_station = session.query(Measurement.station, func.count(Measurement.station))\\\n",
    "                             .group_by(Measurement.station)\\\n",
    "                             .order_by(func.count(Measurement.station).desc())\\\n",
    "                             .first()[0]\n",
    "most_recent_date = session.query(func.max(Measurement.date)).scalar()\n",
    "most_recent_date = datetime.strptime(most_recent_date, '%Y-%m-%d')\n",
    "one_year_ago = most_recent_date - timedelta(days=365)\n",
    "results = session.query(Measurement.date, Measurement.tobs)\\\n",
    "                 .filter(Measurement.station == most_active_station)\\\n",
    "                 .filter(Measurement.date >= one_year_ago).all()\n",
    "df = pd.DataFrame(results, columns=['Date', 'Temperature'])\n",
    "plt.figure(figsize=(8, 6))\n",
    "plt.hist(df['Temperature'], bins=12)\n",
    "plt.xlabel('Temperature (°F)')\n",
    "plt.ylabel('Frequency')\n",
    "plt.title(f'Temperature Observation for Station {most_active_station} (Last 12 Months)')\n",
    "plt.tight_layout()\n",
    "plt.show()"
   ]
  },
  {
   "cell_type": "markdown",
   "metadata": {},
   "source": [
    "# Close Session"
   ]
  },
  {
   "cell_type": "code",
   "execution_count": 16,
   "metadata": {},
   "outputs": [],
   "source": [
    "# Close Session\n",
    "session.close()"
   ]
  },
  {
   "cell_type": "code",
   "execution_count": null,
   "metadata": {},
   "outputs": [],
   "source": []
  }
 ],
 "metadata": {
  "anaconda-cloud": {},
  "kernel_info": {
   "name": "python3"
  },
  "kernelspec": {
   "display_name": "Python 3 (ipykernel)",
   "language": "python",
   "name": "python3"
  },
  "language_info": {
   "codemirror_mode": {
    "name": "ipython",
    "version": 3
   },
   "file_extension": ".py",
   "mimetype": "text/x-python",
   "name": "python",
   "nbconvert_exporter": "python",
   "pygments_lexer": "ipython3",
   "version": "3.10.11"
  },
  "nteract": {
   "version": "0.12.3"
  },
  "varInspector": {
   "cols": {
    "lenName": 16,
    "lenType": 16,
    "lenVar": 40
   },
   "kernels_config": {
    "python": {
     "delete_cmd_postfix": "",
     "delete_cmd_prefix": "del ",
     "library": "var_list.py",
     "varRefreshCmd": "print(var_dic_list())"
    },
    "r": {
     "delete_cmd_postfix": ") ",
     "delete_cmd_prefix": "rm(",
     "library": "var_list.r",
     "varRefreshCmd": "cat(var_dic_list()) "
    }
   },
   "types_to_exclude": [
    "module",
    "function",
    "builtin_function_or_method",
    "instance",
    "_Feature"
   ],
   "window_display": false
  }
 },
 "nbformat": 4,
 "nbformat_minor": 2
}
